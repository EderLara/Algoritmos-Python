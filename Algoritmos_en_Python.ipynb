{
  "nbformat": 4,
  "nbformat_minor": 0,
  "metadata": {
    "colab": {
      "provenance": [],
      "authorship_tag": "ABX9TyMPfAurH31gH1mgt1uh6bvp",
      "include_colab_link": true
    },
    "kernelspec": {
      "name": "python3",
      "display_name": "Python 3"
    },
    "language_info": {
      "name": "python"
    }
  },
  "cells": [
    {
      "cell_type": "markdown",
      "metadata": {
        "id": "view-in-github",
        "colab_type": "text"
      },
      "source": [
        "<a href=\"https://colab.research.google.com/github/EderLara/Algoritmos-Python/blob/main/Algoritmos_en_Python.ipynb\" target=\"_parent\"><img src=\"https://colab.research.google.com/assets/colab-badge.svg\" alt=\"Open In Colab\"/></a>"
      ]
    },
    {
      "cell_type": "markdown",
      "source": [
        "# Fundamentos de Algoritmos:\n",
        "\n",
        "\n",
        "1. Búsqueda:\n",
        "* Búsqueda Lineal (Sequential Search): Recorrer una lista elemento por elemento hasta encontrar el objetivo. (Sencillo pero ineficiente para grandes conjuntos de datos).\n",
        "\n",
        "* Búsqueda Binaria (Binary Search): Buscar eficientemente en una lista ordenada dividiendo repetidamente el intervalo de búsqueda por la mitad. (Muy eficiente para listas ordenadas).\n",
        "\n",
        "2. Ordenamiento:\n",
        "* Ordenamiento por Burbuja (Bubble Sort): Comparar elementos adyacentes e intercambiarlos si están en el orden incorrecto, repitiendo hasta que la lista esté ordenada. (Sencillo pero ineficiente).\n",
        "\n",
        "* Ordenamiento por Selección (Selection Sort): Encontrar repetidamente el elemento mínimo (o máximo) de la parte no ordenada y colocarlo al principio. (Mejor que el burbuja, pero aún ineficiente).\n",
        "\n",
        "* Ordenamiento por Inserción (Insertion Sort): Construir la lista ordenada un elemento a la vez, insertando cada nuevo elemento en su posición correcta. (Eficiente para listas pequeñas o casi ordenadas).\n",
        "\n",
        "* Ordenamiento por Mezcla (Merge Sort): Un algoritmo de \"divide y vencerás\" que divide la lista en sublistas, las ordena recursivamente y luego las fusiona. (Eficiente y estable).\n",
        "\n",
        "* Ordenamiento Rápido (Quick Sort): Otro algoritmo de \"divide y vencerás\" que selecciona un elemento \"pivote\" y particiona la lista alrededor del pivote. (Generalmente muy eficiente, pero el peor caso es O(n^2)).\n",
        "\n",
        "3. Recursión:\n",
        "Comprender cómo definir funciones que se llaman a sí mismas para resolver problemas.\n",
        "Identificar el caso base y el paso recursivo.\n",
        "Ejemplos clásicos: factorial, Fibonacci, recorrido de árboles.\n",
        "\n",
        "\n",
        "# Estructuras de Datos y sus Algoritmos Asociados:\n",
        "\n",
        "1. Listas y Arreglos:\n",
        "Operaciones básicas: acceso, inserción, eliminación.\n",
        "Algoritmos de búsqueda y ordenamiento aplicados a listas.\n",
        "\n",
        "2. Diccionarios (Hash Maps):\n",
        "Operaciones básicas: inserción, eliminación, búsqueda por clave.\n",
        "Comprensión del hashing y el manejo de colisiones (aunque Python lo maneja internamente).\n",
        "\n",
        "3. Conjuntos (Sets):\n",
        "Operaciones básicas: unión, intersección, diferencia.\n",
        "Comprensión de cómo se almacenan elementos únicos.\n",
        "\n",
        "4. Tuplas:\n",
        "Similares a las listas pero inmutables.\n",
        "\n",
        "5. Colas (Queues):\n",
        "Operaciones FIFO (First-In, First-Out): enqueue (añadir), dequeue (eliminar).\n",
        "Implementaciones con listas o collections.deque.\n",
        "\n",
        "6. Pilas (Stacks):\n",
        "Operaciones LIFO (Last-In, First-Out): push (añadir), pop (eliminar).\n",
        "Implementaciones con listas.\n",
        "\n",
        "7. Árboles:\n",
        "Árboles Binarios:\n",
        "Recorridos: Inorden, Preorden, Postorden.\n",
        "Búsqueda, inserción, eliminación en Árboles de Búsqueda Binaria (BST).\n",
        "Conceptos básicos de árboles balanceados (AVL, Rojo-Negro - aunque no siempre necesitas implementarlos desde cero, entender su propósito es útil).\n",
        "\n",
        "8. Heaps (Montículos):\n",
        "Heap Binario (Min-Heap, Max-Heap).\n",
        "Operaciones: heapify, heappush, heappop.\n",
        "Uso en el algoritmo Heap Sort y colas de prioridad.\n",
        "\n",
        "9. Grafos:\n",
        "Representaciones: Lista de adyacencia, Matriz de adyacencia.\n",
        "Recorridos:\n",
        "Búsqueda en Anchura (Breadth-First Search - BFS).\n",
        "Búsqueda en Profundidad (Depth-First Search - DFS).\n",
        "\n",
        "* Algoritmos Comunes:\n",
        "Camino más corto: Algoritmo de Dijkstra (para grafos con pesos no negativos).\n",
        "Árbol de expansión mínima: Algoritmos de Kruskal y Prim.\n",
        "Detección de ciclos.\n",
        "\n",
        "\n",
        "# Técnicas Algorítmicas:\n",
        "\n",
        "Divide y Vencerás (Divide and Conquer):\n",
        "Romper un problema en subproblemas más pequeños, resolverlos recursivamente y combinar sus soluciones.\n",
        "\n",
        "Ejemplos: Merge Sort, Quick Sort, Búsqueda Binaria.\n",
        "\n",
        "1. Programación Dinámica (Dynamic Programming):\n",
        "Resolver problemas superponiendo subproblemas y almacenando las soluciones de los subproblemas para evitar recalcularlos.\n",
        "Identificar la subestructura óptima y las subproblemas superpuestos.\n",
        "\n",
        "2. Enfoques: memoización (top-down) y tabulación (bottom-up).\n",
        "Ejemplos clásicos: Fibonacci, Coin Change, Longest Common Subsequence.\n",
        "Algoritmos Greddy (Greedy Algorithms):\n",
        "Tomar la mejor decisión local en cada paso con la esperanza de encontrar una solución óptima global.\n",
        "No siempre garantizan la solución óptima, pero son útiles para ciertos problemas.\n",
        "Ejemplos: Problema de la mochila fraccionaria, Algoritmo de Dijkstra (en ciertos casos).\n",
        "\n",
        "9. Backtracking (Vuelta Atrás):\n",
        "Explorar todas las posibles soluciones de forma sistemática, retrocediendo cuando una opción no conduce a una solución válida.\n",
        "Útil para problemas de búsqueda de soluciones, como el problema de las N reinas o la resolución de Sudoku.\n",
        "\n",
        "# Complejidad Algorítmica (Big O Notation):\n",
        "\n",
        "Comprender cómo analizar la eficiencia de los algoritmos en términos de tiempo y espacio.\n",
        "Conocer las notaciones comunes de complejidad: O(1), O(log n), O(n), O(n log n), O(n^2), O(2^n), O(n!).\n",
        "Ser capaz de determinar la complejidad de tiempo y espacio de los algoritmos que escribes y de los algoritmos estándar."
      ],
      "metadata": {
        "id": "bHLCnfFyH7Fi"
      }
    },
    {
      "cell_type": "code",
      "source": [],
      "metadata": {
        "id": "2Je-qC1fKleH"
      },
      "execution_count": null,
      "outputs": []
    }
  ]
}